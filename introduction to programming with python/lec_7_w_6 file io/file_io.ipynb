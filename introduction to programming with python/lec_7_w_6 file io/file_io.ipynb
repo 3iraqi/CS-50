{
 "cells": [
  {
   "cell_type": "markdown",
   "metadata": {},
   "source": [
    "# [File I/O](https://cs50.harvard.edu/python/2022/weeks/6/)\n",
    "> CS50 Introduction to Programming with Python [Course](https://cs50.harvard.edu/python/2022/)\n",
    "\n"
   ]
  },
  {
   "cell_type": "markdown",
   "metadata": {},
   "source": [
    "## Store in List\n"
   ]
  },
  {
   "cell_type": "code",
   "execution_count": 3,
   "metadata": {
    "notebookRunGroups": {
     "groupValue": "1"
    },
    "tags": [
     "List"
    ]
   },
   "outputs": [
    {
     "name": "stdout",
     "output_type": "stream",
     "text": [
      "hello, ahemd\n",
      "hello, eleraqi\n",
      "hello, mohame\n"
     ]
    }
   ],
   "source": [
    "names = []\n",
    "\n",
    "for _ in range(3):\n",
    "    name = input(\"what's your name? \")\n",
    "    names.append(name)\n",
    "    \n",
    "for name in sorted(names):\n",
    "     print(f\"hello, {name}\")\n"
   ]
  },
  {
   "cell_type": "markdown",
   "metadata": {},
   "source": [
    "---\n",
    "But unfortunately if U `run` code again you will `lose` your `data`.\n",
    "\n",
    "and the -solution- to store it in `file or storage`."
   ]
  },
  {
   "cell_type": "markdown",
   "metadata": {},
   "source": [
    "## Store in File | `open`\n"
   ]
  },
  {
   "cell_type": "markdown",
   "metadata": {},
   "source": [
    "```python \n",
    "open# = to double click to open a file\n",
    "open(mode=[\"r\",\"w\",\"a\"])\n",
    "# a - > write to file and add to old file not overwrite\n",
    "# w - > write each time overwrite\n",
    "``` "
   ]
  },
  {
   "cell_type": "code",
   "execution_count": null,
   "metadata": {
    "tags": [
     "open"
    ]
   },
   "outputs": [],
   "source": [
    "name = input(\"What's your name? \")\n",
    "\n",
    "# We Should open and close the file each time we need to write something.\n",
    "file = open(file=\"names.txt\",mode=\"a\",encoding=\"utf-8\",newline='')\n",
    "file.write(f\"{name} \\n\")\n",
    "file.close()"
   ]
  },
  {
   "cell_type": "markdown",
   "metadata": {},
   "source": [
    "```python\n",
    "with # key word to auto open close file\n",
    "```"
   ]
  },
  {
   "cell_type": "code",
   "execution_count": 16,
   "metadata": {
    "tags": [
     "open"
    ]
   },
   "outputs": [
    {
     "data": {
      "text/plain": [
       "True"
      ]
     },
     "execution_count": 16,
     "metadata": {},
     "output_type": "execute_result"
    }
   ],
   "source": [
    "name = input(\"What's your name? \")\n",
    "\n",
    "# we  just open the file only and it will automatically close some file.\n",
    "with open(file=\"names.txt\",mode=\"a\",encoding=\"utf-8\",newline='')as file :\n",
    "    file.write(f\"{name} \\n\")\n"
   ]
  },
  {
   "cell_type": "markdown",
   "metadata": {},
   "source": [
    "```python\n",
    "file.readlines()\n",
    "```"
   ]
  },
  {
   "cell_type": "code",
   "execution_count": 27,
   "metadata": {},
   "outputs": [
    {
     "name": "stdout",
     "output_type": "stream",
     "text": [
      "hello, dsd\n",
      "hello, ddsa\n",
      "hello, fgh\n"
     ]
    }
   ],
   "source": [
    "with open(\"names.txt\",\"r\",newline='') as file :\n",
    "    lines = file.readlines()\n",
    "    \n",
    "for line in lines :\n",
    "    print(\"hello,\",line.rstrip())"
   ]
  },
  {
   "cell_type": "code",
   "execution_count": 31,
   "metadata": {},
   "outputs": [
    {
     "name": "stdout",
     "output_type": "stream",
     "text": [
      "hello, dsd\n",
      "hello, ddsa\n",
      "hello, fgh\n"
     ]
    }
   ],
   "source": [
    "with open(\"names.txt\",\"r\",newline='') as file :\n",
    "    for line in file :\n",
    "        print(\"hello,\",line.rstrip())"
   ]
  },
  {
   "cell_type": "code",
   "execution_count": 40,
   "metadata": {},
   "outputs": [
    {
     "name": "stdout",
     "output_type": "stream",
     "text": [
      "hello, Fsd\n",
      "hello, fgh\n",
      "hello, Dsd\n",
      "hello, ddsa\n"
     ]
    }
   ],
   "source": [
    "with open(\"names.txt\",\"r\",newline='') as file :\n",
    "    for line in sorted(file,reverse=True,key=str.lower) :\n",
    "        print(\"hello,\",line.rstrip())"
   ]
  },
  {
   "cell_type": "markdown",
   "metadata": {},
   "source": [
    "names.csv \n",
    "## Store in CSV\n",
    "> `C`omma `S`eparated `V`alues"
   ]
  },
  {
   "cell_type": "code",
   "execution_count": 3,
   "metadata": {},
   "outputs": [
    {
     "name": "stdout",
     "output_type": "stream",
     "text": [
      "Hermione is in Gryffindor\n",
      "Harry is in Gryffindor\n",
      "Ron is in Gryffindor\n",
      "Draco is in Slytherin\n"
     ]
    }
   ],
   "source": [
    "# students.py\n",
    "with open(\"students.csv\") as file :\n",
    "    for line in file:\n",
    "       row = line.rstrip().split(\",\") # assign to list\n",
    "       print(f\"{row[0]} is in {row[1]}\")\n"
   ]
  },
  {
   "cell_type": "code",
   "execution_count": 4,
   "metadata": {},
   "outputs": [
    {
     "name": "stdout",
     "output_type": "stream",
     "text": [
      "Hermione is in Gryffindor\n",
      "Harry is in Gryffindor\n",
      "Ron is in Gryffindor\n",
      "Draco is in Slytherin\n"
     ]
    }
   ],
   "source": [
    "# students.py\n",
    "with open(\"students.csv\") as file :\n",
    "    for line in file:\n",
    "       name , house = line.rstrip().split(\",\") # assign to  two variables\n",
    "       print(f\"{name} is in {house}\")\n"
   ]
  },
  {
   "cell_type": "code",
   "execution_count": 6,
   "metadata": {},
   "outputs": [
    {
     "name": "stdout",
     "output_type": "stream",
     "text": [
      "Draco is in Slytherin\n",
      "Harry is in Gryffindor\n",
      "Hermione is in Gryffindor\n",
      "Ron is in Gryffindor\n"
     ]
    }
   ],
   "source": [
    "students = []\n",
    "\n",
    "with open(\"students.csv\") as file :\n",
    "    for line in file:\n",
    "       name , house = line.rstrip().split(\",\") # assign to  two variables\n",
    "       students.append(f\"{name} is in {house}\")\n",
    "       \n",
    "for student in sorted(students):\n",
    "    print(student)"
   ]
  },
  {
   "cell_type": "code",
   "execution_count": 9,
   "metadata": {},
   "outputs": [
    {
     "name": "stdout",
     "output_type": "stream",
     "text": [
      "Hermione is in Gryffindor\n",
      "Harry is in Gryffindor\n",
      "Ron is in Gryffindor\n",
      "Draco is in Slytherin\n"
     ]
    }
   ],
   "source": [
    "students = []\n",
    "\n",
    "with open(\"students.csv\") as file :\n",
    "    for line in file:\n",
    "        name , house = line.rstrip().split(\",\") # assign to  two variables\n",
    "        student ={}\n",
    "        student[\"name\"] = name\n",
    "        student[\"house\"] = house\n",
    "        students.append(student)\n",
    "        \n",
    "for student in students:\n",
    "    print(f\"{student ['name']} is in {student ['house']}\")\n",
    "    "
   ]
  },
  {
   "cell_type": "markdown",
   "metadata": {},
   "source": [
    "`Sorted` `keys` take a function"
   ]
  },
  {
   "cell_type": "code",
   "execution_count": 14,
   "metadata": {},
   "outputs": [
    {
     "name": "stdout",
     "output_type": "stream",
     "text": [
      "Draco is in Slytherin\n",
      "Harry is in Gryffindor\n",
      "Hermione is in Gryffindor\n",
      "Ron is in Gryffindor\n"
     ]
    }
   ],
   "source": [
    "students = []\n",
    "\n",
    "with open(\"students.csv\") as file :\n",
    "    for line in file:\n",
    "        name , house = line.rstrip().split(\",\") # assign to  two variables\n",
    "        student ={\"name\":name,\"house\":house}\n",
    "        students.append(student)\n",
    "        \n",
    "def get_name(student):\n",
    "    return student[\"name\"]\n",
    "\n",
    "def get_house(student):\n",
    "    return student[\"house\"]\n",
    "\n",
    "for student in sorted(students,key=get_name): # sorted take a `key` parameter it's type is function.\n",
    "    print(f\"{student ['name']} is in {student ['house']}\")\n",
    "    "
   ]
  },
  {
   "cell_type": "markdown",
   "metadata": {},
   "source": [
    "## using lambda\n",
    "> is an anonymous function that be called in one place and return certain values.\n",
    "```python\n",
    "lambda x:x\n",
    "lambda parameter:return\n",
    "```\n"
   ]
  },
  {
   "cell_type": "code",
   "execution_count": 1,
   "metadata": {},
   "outputs": [
    {
     "name": "stdout",
     "output_type": "stream",
     "text": [
      "Draco is in Slytherin\n",
      "Harry is in Gryffindor\n",
      "Hermione is in Gryffindor\n",
      "Ron is in Gryffindor\n"
     ]
    }
   ],
   "source": [
    "students = []\n",
    "\n",
    "with open(\"students.csv\") as file :\n",
    "    for line in file:\n",
    "        name , house = line.rstrip().split(\",\") # assign to  two variables\n",
    "        student ={\"name\":name,\"house\":house}\n",
    "        students.append(student)\n",
    "\n",
    "\n",
    "for student in sorted(students,key=lambda student:student[\"name\"]): # sorted take a `key` parameter it's type is function.\n",
    "    print(f\"{student ['name']} is in {student ['house']}\")\n",
    "    "
   ]
  },
  {
   "cell_type": "code",
   "execution_count": null,
   "metadata": {},
   "outputs": [],
   "source": []
  },
  {
   "cell_type": "code",
   "execution_count": null,
   "metadata": {},
   "outputs": [],
   "source": []
  }
 ],
 "metadata": {
  "kernelspec": {
   "display_name": "base",
   "language": "python",
   "name": "python3"
  },
  "language_info": {
   "codemirror_mode": {
    "name": "ipython",
    "version": 3
   },
   "file_extension": ".py",
   "mimetype": "text/x-python",
   "name": "python",
   "nbconvert_exporter": "python",
   "pygments_lexer": "ipython3",
   "version": "3.12.7"
  }
 },
 "nbformat": 4,
 "nbformat_minor": 2
}
