{
 "cells": [
  {
   "cell_type": "code",
   "execution_count": 14,
   "metadata": {
    "notebookRunGroups": {
     "groupValue": "1"
    }
   },
   "outputs": [
    {
     "name": "stdout",
     "output_type": "stream",
     "text": [
      "Overwriting hello.c\n"
     ]
    }
   ],
   "source": [
    "%%writefile hello.c\n",
    "\n",
    "#include <stdio.h>\n",
    "int main() {\n",
    "    printf(\"Hello, World!\\n\");\n",
    "    return 0;\n",
    "}\n"
   ]
  },
  {
   "cell_type": "code",
   "execution_count": null,
   "metadata": {
    "notebookRunGroups": {
     "groupValue": "1"
    }
   },
   "outputs": [
    {
     "name": "stdout",
     "output_type": "stream",
     "text": [
      "Hello, World!\n"
     ]
    }
   ],
   "source": [
    "!gcc hello.c -o hello && hello"
   ]
  },
  {
   "cell_type": "code",
   "execution_count": 11,
   "metadata": {},
   "outputs": [
    {
     "name": "stderr",
     "output_type": "stream",
     "text": [
      "UsageError: Cell magic `%%shell` not found.\n"
     ]
    }
   ],
   "source": [
    "%%shell code tst.py"
   ]
  },
  {
   "cell_type": "code",
   "execution_count": 1,
   "metadata": {},
   "outputs": [
    {
     "data": {
      "text/html": [
       "\n",
       "<!DOCTYPE html>\n",
       "<html>\n",
       "<head>\n",
       "    <title>Simple HTML Page</title>\n",
       "</head>\n",
       "<body>\n",
       "    <h1>Welcome to My Simple HTML Page</h1>\n",
       "    <p>This is a paragraph of text on my webpage.</p>\n",
       "    <a href=\"https://www.example.com\" target=\"_blank\">Visit Example.com</a>\n",
       "    <ul>\n",
       "        <li>First item</li>\n",
       "        <li>Second item</li>\n",
       "        <li>Third item</li>\n",
       "    </ul>\n",
       "</body>\n",
       "</html>\n"
      ],
      "text/plain": [
       "<IPython.core.display.HTML object>"
      ]
     },
     "metadata": {},
     "output_type": "display_data"
    }
   ],
   "source": [
    "%%HTML\n",
    "\n",
    "<!DOCTYPE html>\n",
    "<html>\n",
    "<head>\n",
    "    <title>Simple HTML Page</title>\n",
    "</head>\n",
    "<body>\n",
    "    <h1>Welcome to My Simple HTML Page</h1>\n",
    "    <p>This is a paragraph of text on my webpage.</p>\n",
    "    <a href=\"https://www.example.com\" target=\"_blank\">Visit Example.com</a>\n",
    "    <ul>\n",
    "        <li>First item</li>\n",
    "        <li>Second item</li>\n",
    "        <li>Third item</li>\n",
    "    </ul>\n",
    "</body>\n",
    "</html>\n"
   ]
  }
 ],
 "metadata": {
  "kernelspec": {
   "display_name": "base",
   "language": "python",
   "name": "python3"
  },
  "language_info": {
   "codemirror_mode": {
    "name": "ipython",
    "version": 3
   },
   "file_extension": ".py",
   "mimetype": "text/x-python",
   "name": "python",
   "nbconvert_exporter": "python",
   "pygments_lexer": "ipython3",
   "version": "3.12.7"
  }
 },
 "nbformat": 4,
 "nbformat_minor": 2
}
