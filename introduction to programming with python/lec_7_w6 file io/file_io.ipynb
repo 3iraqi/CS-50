{
 "cells": [
  {
   "cell_type": "markdown",
   "metadata": {},
   "source": [
    "# [File I/O](https://cs50.harvard.edu/python/2022/weeks/6/)\n",
    "> CS50 Introduction to Programming with Python [Course](https://cs50.harvard.edu/python/2022/)\n",
    "\n"
   ]
  },
  {
   "cell_type": "markdown",
   "metadata": {},
   "source": [
    "## Store in List\n"
   ]
  },
  {
   "cell_type": "code",
   "execution_count": 3,
   "metadata": {
    "notebookRunGroups": {
     "groupValue": "1"
    },
    "tags": [
     "List"
    ]
   },
   "outputs": [
    {
     "name": "stdout",
     "output_type": "stream",
     "text": [
      "hello, ahemd\n",
      "hello, eleraqi\n",
      "hello, mohame\n"
     ]
    }
   ],
   "source": [
    "names = []\n",
    "\n",
    "for _ in range(3):\n",
    "    name = input(\"what's your name? \")\n",
    "    names.append(name)\n",
    "    \n",
    "for name in sorted(names):\n",
    "     print(f\"hello, {name}\")\n"
   ]
  },
  {
   "cell_type": "markdown",
   "metadata": {},
   "source": [
    "---\n",
    "But unfortunately if U `run` code again you will `lose` your `data`.\n",
    "\n",
    "and the -solution- to store it in `file or storage`."
   ]
  },
  {
   "cell_type": "markdown",
   "metadata": {},
   "source": [
    "## Store in File | `open`\n"
   ]
  },
  {
   "cell_type": "markdown",
   "metadata": {},
   "source": [
    "```python \n",
    "open# = to double click to open a file\n",
    "open(mode=[\"r\",\"w\",\"a\"])\n",
    "# a - > write to file and add to old file not overwrite\n",
    "# w - > write each time overwrite\n",
    "``` "
   ]
  },
  {
   "cell_type": "code",
   "execution_count": null,
   "metadata": {
    "tags": [
     "open"
    ]
   },
   "outputs": [],
   "source": [
    "name = input(\"What's your name? \")\n",
    "\n",
    "# We Should open and close the file each time we need to write something.\n",
    "file = open(file=\"names.txt\",mode=\"a\",encoding=\"utf-8\",newline='')\n",
    "file.write(f\"{name} \\n\")\n",
    "file.close()"
   ]
  },
  {
   "cell_type": "markdown",
   "metadata": {},
   "source": [
    "```python\n",
    "with # key word to auto open close file\n",
    "```"
   ]
  },
  {
   "cell_type": "code",
   "execution_count": 16,
   "metadata": {
    "tags": [
     "open"
    ]
   },
   "outputs": [
    {
     "data": {
      "text/plain": [
       "True"
      ]
     },
     "execution_count": 16,
     "metadata": {},
     "output_type": "execute_result"
    }
   ],
   "source": [
    "name = input(\"What's your name? \")\n",
    "\n",
    "# we  just open the file only and it will automatically close some file.\n",
    "with open(file=\"names.txt\",mode=\"a\",encoding=\"utf-8\",newline='')as file :\n",
    "    file.write(f\"{name} \\n\")\n"
   ]
  },
  {
   "cell_type": "markdown",
   "metadata": {},
   "source": [
    "```python\n",
    "file.readlines()\n",
    "```"
   ]
  },
  {
   "cell_type": "code",
   "execution_count": 27,
   "metadata": {},
   "outputs": [
    {
     "name": "stdout",
     "output_type": "stream",
     "text": [
      "hello, dsd\n",
      "hello, ddsa\n",
      "hello, fgh\n"
     ]
    }
   ],
   "source": [
    "with open(\"names.txt\",\"r\",newline='') as file :\n",
    "    lines = file.readlines()\n",
    "    \n",
    "for line in lines :\n",
    "    print(\"hello,\",line.rstrip())"
   ]
  },
  {
   "cell_type": "code",
   "execution_count": 31,
   "metadata": {},
   "outputs": [
    {
     "name": "stdout",
     "output_type": "stream",
     "text": [
      "hello, dsd\n",
      "hello, ddsa\n",
      "hello, fgh\n"
     ]
    }
   ],
   "source": [
    "with open(\"names.txt\",\"r\",newline='') as file :\n",
    "    for line in file :\n",
    "        print(\"hello,\",line.rstrip())"
   ]
  },
  {
   "cell_type": "code",
   "execution_count": 40,
   "metadata": {},
   "outputs": [
    {
     "name": "stdout",
     "output_type": "stream",
     "text": [
      "hello, Fsd\n",
      "hello, fgh\n",
      "hello, Dsd\n",
      "hello, ddsa\n"
     ]
    }
   ],
   "source": [
    "with open(\"names.txt\",\"r\",newline='') as file :\n",
    "    for line in sorted(file,reverse=True,key=str.lower) :\n",
    "        print(\"hello,\",line.rstrip())"
   ]
  },
  {
   "cell_type": "markdown",
   "metadata": {},
   "source": [
    "names.csv \n",
    "## Store in CSV\n",
    "> `C`omma `S`eparated `V`alues"
   ]
  },
  {
   "cell_type": "code",
   "execution_count": 3,
   "metadata": {},
   "outputs": [
    {
     "name": "stdout",
     "output_type": "stream",
     "text": [
      "Hermione is in Gryffindor\n",
      "Harry is in Gryffindor\n",
      "Ron is in Gryffindor\n",
      "Draco is in Slytherin\n"
     ]
    }
   ],
   "source": [
    "# students.py\n",
    "with open(\"students.csv\") as file :\n",
    "    for line in file:\n",
    "       row = line.rstrip().split(\",\") # assign to list\n",
    "       print(f\"{row[0]} is in {row[1]}\")\n"
   ]
  },
  {
   "cell_type": "code",
   "execution_count": 4,
   "metadata": {},
   "outputs": [
    {
     "name": "stdout",
     "output_type": "stream",
     "text": [
      "Hermione is in Gryffindor\n",
      "Harry is in Gryffindor\n",
      "Ron is in Gryffindor\n",
      "Draco is in Slytherin\n"
     ]
    }
   ],
   "source": [
    "# students.py\n",
    "with open(\"students.csv\") as file :\n",
    "    for line in file:\n",
    "       name , house = line.rstrip().split(\",\") # assign to  two variables\n",
    "       print(f\"{name} is in {house}\")\n"
   ]
  },
  {
   "cell_type": "code",
   "execution_count": 6,
   "metadata": {},
   "outputs": [
    {
     "name": "stdout",
     "output_type": "stream",
     "text": [
      "Draco is in Slytherin\n",
      "Harry is in Gryffindor\n",
      "Hermione is in Gryffindor\n",
      "Ron is in Gryffindor\n"
     ]
    }
   ],
   "source": [
    "students = []\n",
    "\n",
    "with open(\"students.csv\") as file :\n",
    "    for line in file:\n",
    "       name , house = line.rstrip().split(\",\") # assign to  two variables\n",
    "       students.append(f\"{name} is in {house}\")\n",
    "       \n",
    "for student in sorted(students):\n",
    "    print(student)"
   ]
  },
  {
   "cell_type": "code",
   "execution_count": 9,
   "metadata": {},
   "outputs": [
    {
     "name": "stdout",
     "output_type": "stream",
     "text": [
      "Hermione is in Gryffindor\n",
      "Harry is in Gryffindor\n",
      "Ron is in Gryffindor\n",
      "Draco is in Slytherin\n"
     ]
    }
   ],
   "source": [
    "students = []\n",
    "\n",
    "with open(\"students.csv\") as file :\n",
    "    for line in file:\n",
    "        name , house = line.rstrip().split(\",\") # assign to  two variables\n",
    "        student ={}\n",
    "        student[\"name\"] = name\n",
    "        student[\"house\"] = house\n",
    "        students.append(student)\n",
    "        \n",
    "for student in students:\n",
    "    print(f\"{student ['name']} is in {student ['house']}\")\n",
    "    "
   ]
  },
  {
   "cell_type": "markdown",
   "metadata": {},
   "source": [
    "`Sorted` `keys` take a function"
   ]
  },
  {
   "cell_type": "code",
   "execution_count": 14,
   "metadata": {},
   "outputs": [
    {
     "name": "stdout",
     "output_type": "stream",
     "text": [
      "Draco is in Slytherin\n",
      "Harry is in Gryffindor\n",
      "Hermione is in Gryffindor\n",
      "Ron is in Gryffindor\n"
     ]
    }
   ],
   "source": [
    "students = []\n",
    "\n",
    "with open(\"students.csv\") as file :\n",
    "    for line in file:\n",
    "        name , house = line.rstrip().split(\",\") # assign to  two variables\n",
    "        student ={\"name\":name,\"house\":house}\n",
    "        students.append(student)\n",
    "        \n",
    "def get_name(student):\n",
    "    return student[\"name\"]\n",
    "\n",
    "def get_house(student):\n",
    "    return student[\"house\"]\n",
    "\n",
    "for student in sorted(students,key=get_name): # sorted take a `key` parameter it's type is function.\n",
    "    print(f\"{student ['name']} is in {student ['house']}\")\n",
    "    "
   ]
  },
  {
   "cell_type": "markdown",
   "metadata": {},
   "source": [
    "## using lambda\n",
    "> is an anonymous function that be called in one place and return certain values.\n",
    "```python\n",
    "lambda x:x\n",
    "lambda parameter:return\n",
    "```\n"
   ]
  },
  {
   "cell_type": "code",
   "execution_count": 17,
   "metadata": {},
   "outputs": [
    {
     "name": "stdout",
     "output_type": "stream",
     "text": [
      "Draco is in  Slytherin\n",
      "Harry is in  Gryffindor\n",
      "Hermione is in  \"Gryffindor sardina\"\n",
      "Ron is in  Gryffindor\n"
     ]
    }
   ],
   "source": [
    "\n",
    "\n",
    "students = []\n",
    "\n",
    "with open(\"students.csv\") as file :\n",
    "    for line in file:\n",
    "        name , house = line.rstrip().split(\",\") # assign to  two variables\n",
    "        student ={\"name\":name,\"house\":house}\n",
    "        students.append(student)\n",
    "\n",
    "\n",
    "for student in sorted(students,key=lambda student:student[\"name\"]): # sorted take a `key` parameter it's type is function.\n",
    "    print(f\"{student ['name']} is in {student ['house']}\")\n",
    "    "
   ]
  },
  {
   "cell_type": "markdown",
   "metadata": {},
   "source": [
    "PROBLEM: Where there is a comma in the student data another separator"
   ]
  },
  {
   "cell_type": "code",
   "execution_count": 7,
   "metadata": {},
   "outputs": [
    {
     "ename": "ValueError",
     "evalue": "too many values to unpack (expected 2)",
     "output_type": "error",
     "traceback": [
      "\u001b[1;31m---------------------------------------------------------------------------\u001b[0m",
      "\u001b[1;31mValueError\u001b[0m                                Traceback (most recent call last)",
      "Cell \u001b[1;32mIn[7], line 5\u001b[0m\n\u001b[0;32m      3\u001b[0m \u001b[38;5;28;01mwith\u001b[39;00m \u001b[38;5;28mopen\u001b[39m(\u001b[38;5;124m\"\u001b[39m\u001b[38;5;124mstudents.csv\u001b[39m\u001b[38;5;124m\"\u001b[39m) \u001b[38;5;28;01mas\u001b[39;00m file :\n\u001b[0;32m      4\u001b[0m     \u001b[38;5;28;01mfor\u001b[39;00m line \u001b[38;5;129;01min\u001b[39;00m file:\n\u001b[1;32m----> 5\u001b[0m         name , home \u001b[38;5;241m=\u001b[39m line\u001b[38;5;241m.\u001b[39mrstrip()\u001b[38;5;241m.\u001b[39msplit(\u001b[38;5;124m\"\u001b[39m\u001b[38;5;124m,\u001b[39m\u001b[38;5;124m\"\u001b[39m) \u001b[38;5;66;03m# assign to  two variables\u001b[39;00m\n\u001b[0;32m      6\u001b[0m         student \u001b[38;5;241m=\u001b[39m{\u001b[38;5;124m\"\u001b[39m\u001b[38;5;124mname\u001b[39m\u001b[38;5;124m\"\u001b[39m:name,\u001b[38;5;124m\"\u001b[39m\u001b[38;5;124mhome\u001b[39m\u001b[38;5;124m\"\u001b[39m:home}\n\u001b[0;32m      7\u001b[0m         students\u001b[38;5;241m.\u001b[39mappend(student)\n",
      "\u001b[1;31mValueError\u001b[0m: too many values to unpack (expected 2)"
     ]
    }
   ],
   "source": [
    "students = []\n",
    "\n",
    "with open(\"students.csv\") as file :\n",
    "    for line in file:\n",
    "        name , home = line.rstrip().split(\",\") # assign to  two variables\n",
    "        student ={\"name\":name,\"home\":home}\n",
    "        students.append(student)\n",
    "\n",
    "\n",
    "for student in sorted(students,key=lambda student:student[\"name\"]):\n",
    "    print(f\"{student ['name']} is from {student ['home']}\")\n",
    "    "
   ]
  },
  {
   "cell_type": "markdown",
   "metadata": {},
   "source": [
    "Solution is to use CSV library"
   ]
  },
  {
   "cell_type": "markdown",
   "metadata": {},
   "source": [
    "```python\n",
    "DictReader()\n",
    "```"
   ]
  },
  {
   "cell_type": "code",
   "execution_count": 11,
   "metadata": {},
   "outputs": [
    {
     "name": "stdout",
     "output_type": "stream",
     "text": [
      "Draco is from tanta\n",
      "Harry is from cairo\n",
      "Hermione is from egypt\n",
      "Ron is from mansoura\n"
     ]
    }
   ],
   "source": [
    "\n",
    "import csv\n",
    "\n",
    "students = []\n",
    "\n",
    "with open(\"students.csv\") as file :\n",
    "    reader = csv.DictReader(file)\n",
    "    for row in reader :\n",
    "        students.append( {\"name\":row[\"name\"], \"home\":row[\"home\"]})\n",
    "        # students.append( row) right too.\n",
    "        \n",
    "\n",
    "\n",
    "for student in sorted(students,key=lambda student:student[\"name\"]): # sorted take a `key` parameter it's type is function.\n",
    "    print(f\"{student ['name']} is from {student ['home']}\")\n",
    "    "
   ]
  },
  {
   "cell_type": "markdown",
   "metadata": {},
   "source": [
    "```python\n",
    "DictWriter()\n",
    "```"
   ]
  },
  {
   "cell_type": "code",
   "execution_count": 25,
   "metadata": {},
   "outputs": [],
   "source": [
    "import csv\n",
    "\n",
    "name=input(\"What's your name? \")\n",
    "home=input(\"What's your home? \")\n",
    "\n",
    "with open(\"students.csv\", \"a\",newline=\"\") as file :\n",
    "    writer = csv.DictWriter(file,fieldnames=[\"name\", \"home\"])\n",
    "    writer.writerow({\"name\":name, \"home\":home})"
   ]
  },
  {
   "cell_type": "markdown",
   "metadata": {},
   "source": [
    "## Store or read an image or binary file or ...etc."
   ]
  },
  {
   "cell_type": "markdown",
   "metadata": {},
   "source": [
    "```python\n",
    "import `pillow.readthedocs.io`\n",
    "```\n",
    "is a library allow you to act with images"
   ]
  },
  {
   "cell_type": "code",
   "execution_count": 30,
   "metadata": {},
   "outputs": [
    {
     "name": "stdout",
     "output_type": "stream",
     "text": [
      "Overwriting costumes.py\n"
     ]
    }
   ],
   "source": [
    "%%writefile costumes.py\n",
    "import sys\n",
    "from PIL import Image\n",
    "\n",
    "images = []\n",
    "\n",
    "for arg in sys.argv[1:]:\n",
    "    image = Image.open(arg)\n",
    "    images.append(image)\n",
    "\n",
    "images[0].save(\n",
    "    \"costume1.gif\", save_all=True, append_images=[images[1]],durations=200,loop=0\n",
    ")"
   ]
  },
  {
   "cell_type": "code",
   "execution_count": 31,
   "metadata": {},
   "outputs": [],
   "source": [
    "! py costumes.py costume1.gif costume2.gif "
   ]
  }
 ],
 "metadata": {
  "kernelspec": {
   "display_name": "base",
   "language": "python",
   "name": "python3"
  },
  "language_info": {
   "codemirror_mode": {
    "name": "ipython",
    "version": 3
   },
   "file_extension": ".py",
   "mimetype": "text/x-python",
   "name": "python",
   "nbconvert_exporter": "python",
   "pygments_lexer": "ipython3",
   "version": "3.12.7"
  }
 },
 "nbformat": 4,
 "nbformat_minor": 2
}
